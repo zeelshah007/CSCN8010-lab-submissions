{
  "nbformat": 4,
  "nbformat_minor": 0,
  "metadata": {
    "colab": {
      "provenance": []
    },
    "kernelspec": {
      "name": "python3",
      "display_name": "Python 3"
    },
    "language_info": {
      "name": "python"
    }
  },
  "cells": [
    {
      "cell_type": "markdown",
      "source": [
        "**Practical Lab 8 - Dot Product and Matrix Multiplication in PyTorch and Tensorflow**"
      ],
      "metadata": {
        "id": "fXo4YwAjyTLy"
      }
    },
    {
      "cell_type": "markdown",
      "source": [
        "**Name: Zeel Shah**\n",
        "**ID: 8947091**"
      ],
      "metadata": {
        "id": "h5uURkUnycP6"
      }
    },
    {
      "cell_type": "markdown",
      "source": [
        "Using PyTorch:\n",
        "\n",
        "Calculate the dot product between two vectors each of length 3 (1.5 points)\n",
        "Calculate the matrix multiplication of two 2-dimensional matrices, each with a size of (2,2) (1.5 points)"
      ],
      "metadata": {
        "id": "XjedRmW2y1oQ"
      }
    },
    {
      "cell_type": "code",
      "execution_count": 2,
      "metadata": {
        "colab": {
          "base_uri": "https://localhost:8080/"
        },
        "id": "V_ycvS9wxYPm",
        "outputId": "afe79558-1786-4658-f12f-a5bc7108354e"
      },
      "outputs": [
        {
          "output_type": "stream",
          "name": "stdout",
          "text": [
            "Dot Product (PyTorch): 32.0\n",
            "Matrix Multiplication (PyTorch):\n",
            " tensor([[19., 22.],\n",
            "        [43., 50.]])\n"
          ]
        }
      ],
      "source": [
        "import torch\n",
        "\n",
        "v1 = torch.tensor([1.0, 2.0, 3.0])\n",
        "v2 = torch.tensor([4.0, 5.0, 6.0])\n",
        "\n",
        "dot_product = torch.sum(v1 * v2)\n",
        "print(\"Dot Product (PyTorch):\", dot_product.item())\n",
        "\n",
        "m1 = torch.tensor([[1.0, 2.0], [3.0, 4.0]])\n",
        "m2 = torch.tensor([[5.0, 6.0], [7.0, 8.0]])\n",
        "\n",
        "matrix_product = matrix1 @ matrix2\n",
        "print(\"Matrix Multiplication (PyTorch):\\n\", matrix_product)"
      ]
    },
    {
      "cell_type": "markdown",
      "source": [
        "Using Tensorflow:\n",
        "\n",
        "Calculate the dot product between the same vectors as above (re-define them in Tensorflow) (1.5 points)\n",
        "Calculate the matrix multiplication of the same matrics as above (re-define them in Tensorflow) (1.5 points)"
      ],
      "metadata": {
        "id": "GpDCMCq9zavH"
      }
    },
    {
      "cell_type": "code",
      "source": [
        "import tensorflow as tf\n",
        "\n",
        "v1_tf = tf.constant([1.0, 2.0, 3.0])\n",
        "v2_tf = tf.constant([4.0, 5.0, 6.0])\n",
        "\n",
        "dot_product_tf = tf.reduce_sum(tf.multiply(v1_tf, v2_tf))\n",
        "print(\"Dot Product (Tensorflow):\", dot_product_tf.numpy())\n",
        "\n",
        "m1_tf = tf.constant([[1.0, 2.0], [3.0, 4.0]])\n",
        "m2_tf = tf.constant([[5.0, 6.0], [7.0, 8.0]])\n",
        "\n",
        "matrix_product_tf = tf.matmul(m1_tf, m2_tf)\n",
        "print(\"Matrix Multiplication (Tensorflow):\\n\", matrix_product_tf.numpy())"
      ],
      "metadata": {
        "colab": {
          "base_uri": "https://localhost:8080/"
        },
        "id": "V9YfgxuDzeZI",
        "outputId": "5fe0e114-6396-4a1f-afce-0d8005a7b7cf"
      },
      "execution_count": 4,
      "outputs": [
        {
          "output_type": "stream",
          "name": "stdout",
          "text": [
            "Dot Product (Tensorflow): 32.0\n",
            "Matrix Multiplication (Tensorflow):\n",
            " [[19. 22.]\n",
            " [43. 50.]]\n"
          ]
        }
      ]
    }
  ]
}